{
 "cells": [
  {
   "cell_type": "code",
   "execution_count": 1,
   "id": "9209de97",
   "metadata": {
    "_cell_guid": "b1076dfc-b9ad-4769-8c92-a6c4dae69d19",
    "_uuid": "8f2839f25d086af736a60e9eeb907d3b93b6e0e5",
    "execution": {
     "iopub.execute_input": "2025-09-16T02:21:02.020830Z",
     "iopub.status.busy": "2025-09-16T02:21:02.020533Z",
     "iopub.status.idle": "2025-09-16T02:21:05.379323Z",
     "shell.execute_reply": "2025-09-16T02:21:05.378467Z"
    },
    "papermill": {
     "duration": 3.363247,
     "end_time": "2025-09-16T02:21:05.381044",
     "exception": false,
     "start_time": "2025-09-16T02:21:02.017797",
     "status": "completed"
    },
    "tags": []
   },
   "outputs": [],
   "source": [
    "import pandas as pd\n",
    "import os\n",
    "import numpy\n",
    "from PIL import Image\n",
    "from sklearn.model_selection import train_test_split\n"
   ]
  }
 ],
 "metadata": {
  "kaggle": {
   "accelerator": "none",
   "dataSources": [
    {
     "databundleVersionId": 6716910,
     "datasetId": 3829311,
     "isSourceIdPinned": false,
     "sourceId": 6633136,
     "sourceType": "datasetVersion"
    }
   ],
   "dockerImageVersionId": 31089,
   "isGpuEnabled": false,
   "isInternetEnabled": true,
   "language": "python",
   "sourceType": "notebook"
  },
  "kernelspec": {
   "display_name": "Python 3",
   "language": "python",
   "name": "python3"
  },
  "language_info": {
   "codemirror_mode": {
    "name": "ipython",
    "version": 3
   },
   "file_extension": ".py",
   "mimetype": "text/x-python",
   "name": "python",
   "nbconvert_exporter": "python",
   "pygments_lexer": "ipython3",
   "version": "3.11.13"
  },
  "papermill": {
   "default_parameters": {},
   "duration": 9.423134,
   "end_time": "2025-09-16T02:21:06.101785",
   "environment_variables": {},
   "exception": null,
   "input_path": "__notebook__.ipynb",
   "output_path": "__notebook__.ipynb",
   "parameters": {},
   "start_time": "2025-09-16T02:20:56.678651",
   "version": "2.6.0"
  }
 },
 "nbformat": 4,
 "nbformat_minor": 5
}
